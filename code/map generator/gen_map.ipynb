{
 "cells": [
  {
   "cell_type": "code",
   "execution_count": null,
   "id": "72f50109-3789-4f0f-928b-5c3588edf0b1",
   "metadata": {},
   "outputs": [],
   "source": [
    "import numpy as np\n",
    "import keras\n",
    "from keras.models import Sequential\n",
    "from keras.applications.vgg16 import VGG16\n",
    "from keras.layers import Dense\n",
    "from keras.layers import Dropout\n",
    "from keras.layers import Flatten\n",
    "from keras.layers.convolutional import Conv2D\n",
    "from keras.layers.convolutional import MaxPooling2D\n",
    "from keras.utils import np_utils\n",
    "from keras.models import Model\n",
    "from keras.layers import Input\n",
    "from keras import backend as K\n",
    "from PIL import Image\n",
    "import matplotlib.image as img\n",
    "import matplotlib.pyplot as plt\n",
    "from keras.layers.core import Flatten, Dense, Dropout\n",
    "from keras.layers.convolutional import Convolution2D, MaxPooling2D, ZeroPadding2D\n",
    "from keras.optimizers import SGD\n",
    "from keras.models import load_model\n",
    "from keras.preprocessing import image\n",
    "from keras.applications.imagenet_utils import preprocess_input\n",
    "import h5py\n",
    "import imageio"
   ]
  },
  {
   "cell_type": "code",
   "execution_count": null,
   "id": "6c2d108a-89f9-4ed1-8153-cf66b4ecb87f",
   "metadata": {},
   "outputs": [],
   "source": [
    "# Load the latest saved model (model_name.h5)\n",
    "model = load_model(\"semmem.h5\")\n",
    "xtl = []"
   ]
  },
  {
   "cell_type": "code",
   "execution_count": null,
   "id": "9782e50b-6c11-456f-a310-22531b4d21dc",
   "metadata": {},
   "outputs": [],
   "source": [
    "# path of the image\n",
    "path = \"images/0001.jpg\"\n",
    "img = keras.utils.load_img(path)\n",
    "img = keras.utils.img_to_array(img)"
   ]
  },
  {
   "cell_type": "code",
   "execution_count": null,
   "id": "eeea8571-a337-4559-b1fa-a46de589f6fe",
   "metadata": {},
   "outputs": [],
   "source": [
    "# CONSTANTS\n",
    "imagewidth = 256\n",
    "imageheight = 256\n",
    "windowsize = 32\n",
    "stride = 2"
   ]
  },
  {
   "cell_type": "code",
   "execution_count": null,
   "id": "ac85ac82-d90e-4e47-b43d-257489fe8e20",
   "metadata": {},
   "outputs": [],
   "source": [
    "# iterations\n",
    "iterations_w = (imagewidth - windowsize) / stride + 1\n",
    "iterations_h = (imageheight - windowsize) / stride + 1"
   ]
  },
  {
   "cell_type": "code",
   "execution_count": null,
   "id": "862aef03-a39a-4ed3-a365-f60eff339928",
   "metadata": {},
   "outputs": [],
   "source": [
    "# SCORES ARRAY INSTEAD OF THIS\n",
    "score = np.random.uniform(low=0, high=1, size=(int(iterations_h * iterations_w)))"
   ]
  },
  {
   "cell_type": "code",
   "execution_count": null,
   "id": "e767f790-7292-4b41-9610-29ad799f8733",
   "metadata": {},
   "outputs": [],
   "source": [
    "# scores' data\n",
    "lowest_score = np.amin(score)\n",
    "highest_score = np.amax(score)\n",
    "step_size = (highest_score - lowest_score) / 5"
   ]
  },
  {
   "cell_type": "code",
   "execution_count": null,
   "id": "49fb10d8-ba26-444d-a7df-ee7d2f6c4411",
   "metadata": {},
   "outputs": [],
   "source": [
    "# image for heatmap\n",
    "newim = np.zeros((3, 256, 256), dtype=\"float32\")"
   ]
  },
  {
   "cell_type": "code",
   "execution_count": null,
   "id": "ab76219d-ade6-4ca2-b8e4-c777b8f373b7",
   "metadata": {},
   "outputs": [],
   "source": [
    "# intensity control factor (to change contrast)\n",
    "icf = 20"
   ]
  },
  {
   "cell_type": "code",
   "execution_count": null,
   "id": "dd75780e-858e-4c58-ba63-9f53488fd430",
   "metadata": {},
   "outputs": [],
   "source": [
    "# increment counter\n",
    "l = 0"
   ]
  },
  {
   "cell_type": "code",
   "execution_count": null,
   "id": "3e1f4e9c-36a5-404f-abf5-f5248d64ed2a",
   "metadata": {},
   "outputs": [],
   "source": [
    "def rgb(value):\n",
    "    # minimum, maximum = lowest_score, highest_score\n",
    "    ratio = 2 * (value - lowest_score) / (highest_score - lowest_score)\n",
    "    b = int(max(0, 255 * (1 - ratio)))\n",
    "    r = int(max(0, 255 * (ratio - 1)))\n",
    "    g = 255 - b - r\n",
    "    return r, g, b"
   ]
  },
  {
   "cell_type": "code",
   "execution_count": null,
   "id": "8fb820bb-c3c6-4d7f-a471-bd1e15c5f282",
   "metadata": {},
   "outputs": [],
   "source": [
    "# define standard constant colors\n",
    "colors = [(0, 0, 255), (0, 255, 0), (255, 0, 0)]"
   ]
  },
  {
   "cell_type": "code",
   "execution_count": null,
   "id": "d3754457-6a3c-412b-88b6-2b57531dc485",
   "metadata": {},
   "outputs": [],
   "source": [
    "# set tolerance\n",
    "EPSILON = (highest_score - lowest_score) / 5"
   ]
  },
  {
   "cell_type": "code",
   "execution_count": null,
   "id": "c5ecff9a-5474-4723-8b25-076f96cca6ed",
   "metadata": {},
   "outputs": [],
   "source": [
    "# processing image data\n",
    "def rgb(val):\n",
    "    fi = (\n",
    "        float(val - lowest_score)\n",
    "        / float(highest_score - lowest_score)\n",
    "        * (len(colors) - 1)\n",
    "    )\n",
    "    i = int(fi)\n",
    "    f = fi - i\n",
    "    if f < EPSILON:\n",
    "        return colors[i]\n",
    "    else:\n",
    "        (r1, g1, b1), (r2, g2, b2) = colors[i], colors[i + 1]\n",
    "        return int(r1 + f * (r2 - r1)), int(g1 + f * (g2 - g1)), int(b1 + f * (b2 - b1))"
   ]
  },
  {
   "cell_type": "code",
   "execution_count": null,
   "id": "a7629e18-3906-45f5-a894-1b99582f63c0",
   "metadata": {},
   "outputs": [],
   "source": [
    "for i in range(int(iterations_w)):\n",
    "    for j in range(int(iterations_h)):\n",
    "        # (r,g,b)\n",
    "        a = rgb(score[l])\n",
    "\n",
    "        # defining intervals for color coding\n",
    "        if score[l] >= lowest_score and score[l] < lowest_score + step_size:\n",
    "            newim[0][\n",
    "                (j * stride) : (j * stride) + windowsize,\n",
    "                (i * stride) : (i * stride) + windowsize,\n",
    "            ] = a[0]\n",
    "            newim[1][\n",
    "                (j * stride) : (j * stride) + windowsize,\n",
    "                (i * stride) : (i * stride) + windowsize,\n",
    "            ] = a[1]\n",
    "            newim[2][\n",
    "                (j * stride) : (j * stride) + windowsize,\n",
    "                (i * stride) : (i * stride) + windowsize,\n",
    "            ] = a[\n",
    "                2\n",
    "            ]  # (score[l] - lowest_score)*icf\n",
    "\n",
    "        elif (\n",
    "            score[l] >= lowest_score + step_size\n",
    "            and score[l] < lowest_score + 2 * step_size\n",
    "        ):\n",
    "            newim[0][\n",
    "                (j * stride) : (j * stride) + windowsize,\n",
    "                (i * stride) : (i * stride) + windowsize,\n",
    "            ] = 0\n",
    "            newim[1][\n",
    "                (j * stride) : (j * stride) + windowsize,\n",
    "                (i * stride) : (i * stride) + windowsize,\n",
    "            ] = (score[l] - lowest_score) * icf\n",
    "            newim[2][\n",
    "                (j * stride) : (j * stride) + windowsize,\n",
    "                (i * stride) : (i * stride) + windowsize,\n",
    "            ] = 1\n",
    "\n",
    "        elif (\n",
    "            score[l] >= lowest_score + 2 * step_size\n",
    "            and score[l] < lowest_score + 3 * step_size\n",
    "        ):\n",
    "            newim[0][\n",
    "                (j * stride) : (j * stride) + windowsize,\n",
    "                (i * stride) : (i * stride) + windowsize,\n",
    "            ] = 0\n",
    "            newim[1][\n",
    "                (j * stride) : (j * stride) + windowsize,\n",
    "                (i * stride) : (i * stride) + windowsize,\n",
    "            ] = 1\n",
    "            newim[2][\n",
    "                (j * stride) : (j * stride) + windowsize,\n",
    "                (i * stride) : (i * stride) + windowsize,\n",
    "            ] = (highest_score - score[l]) * icf\n",
    "\n",
    "        elif (\n",
    "            score[l] >= lowest_score + 3 * step_size\n",
    "            and score[l] < lowest_score + 4 * step_size\n",
    "        ):\n",
    "            newim[0][\n",
    "                (j * stride) : (j * stride) + windowsize,\n",
    "                (i * stride) : (i * stride) + windowsize,\n",
    "            ] = (score[l] - lowest_score) * icf\n",
    "            newim[1][\n",
    "                (j * stride) : (j * stride) + windowsize,\n",
    "                (i * stride) : (i * stride) + windowsize,\n",
    "            ] = 1\n",
    "            newim[2][\n",
    "                (j * stride) : (j * stride) + windowsize,\n",
    "                (i * stride) : (i * stride) + windowsize,\n",
    "            ] = 0\n",
    "\n",
    "        else:\n",
    "            # if(score[l]>=lowest_score+4*step_size and score[l]<=lowest_score+5*step_size)\n",
    "            newim[0][\n",
    "                (j * stride) : (j * stride) + windowsize,\n",
    "                (i * stride) : (i * stride) + windowsize,\n",
    "            ] = 1\n",
    "            newim[1][\n",
    "                (j * stride) : (j * stride) + windowsize,\n",
    "                (i * stride) : (i * stride) + windowsize,\n",
    "            ] = (highest_score - score[l]) * icf\n",
    "            newim[2][\n",
    "                (j * stride) : (j * stride) + windowsize,\n",
    "                (i * stride) : (i * stride) + windowsize,\n",
    "            ] = 0\n",
    "        l += 1"
   ]
  },
  {
   "cell_type": "code",
   "execution_count": null,
   "id": "5b1c368e-656c-41d6-90b3-893dd3e2202d",
   "metadata": {},
   "outputs": [],
   "source": [
    "# changing dimension to display image\n",
    "newim = np.rollaxis(newim, 0, 3)"
   ]
  },
  {
   "cell_type": "code",
   "execution_count": null,
   "id": "5ed85d1f-cba4-4083-953f-98edc0515fc3",
   "metadata": {},
   "outputs": [],
   "source": [
    "imageio.imwrite(\"outfile.jpg\", newim)"
   ]
  },
  {
   "cell_type": "code",
   "execution_count": null,
   "id": "590f8b56-1b23-4d7d-97ac-51208dadd62f",
   "metadata": {},
   "outputs": [],
   "source": [
    "# Load the image and the image map\n",
    "img_map = keras.utils.load_img(\"outfile.jpg\")\n",
    "orig_image = keras.utils.load_img(path)"
   ]
  },
  {
   "cell_type": "code",
   "execution_count": null,
   "id": "318d37d4-3749-4309-a746-3cd8d48de61c",
   "metadata": {},
   "outputs": [],
   "source": [
    "# display the image\n",
    "plt.imshow(Image.blend(orig_image, img_map, alpha=0.9))\n",
    "plt.show()"
   ]
  }
 ],
 "metadata": {
  "kernelspec": {
   "display_name": "Python 3.10.3 64-bit",
   "language": "python",
   "name": "python3"
  },
  "language_info": {
   "codemirror_mode": {
    "name": "ipython",
    "version": 3
   },
   "file_extension": ".py",
   "mimetype": "text/x-python",
   "name": "python",
   "nbconvert_exporter": "python",
   "pygments_lexer": "ipython3",
   "version": "3.10.3"
  },
  "vscode": {
   "interpreter": {
    "hash": "aee8b7b246df8f9039afb4144a1f6fd8d2ca17a180786b69acc140d282b71a49"
   }
  }
 },
 "nbformat": 4,
 "nbformat_minor": 5
}
