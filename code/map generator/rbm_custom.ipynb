{
 "cells": [
  {
   "cell_type": "code",
   "execution_count": null,
   "id": "4341f22e-ca9b-42b7-95da-3675504e69e6",
   "metadata": {},
   "outputs": [],
   "source": [
    "import csv\n",
    "import numpy as np\n",
    "import pickle\n",
    "import scipy\n",
    "import keras\n",
    "from keras.models import Sequential\n",
    "from keras.applications.vgg16 import VGG16\n",
    "from keras.layers import Dense\n",
    "from keras.layers import Dropout\n",
    "from keras.layers import Flatten\n",
    "from keras.layers.convolutional import Conv2D\n",
    "from keras.layers.convolutional import MaxPooling2D\n",
    "from keras.utils import np_utils\n",
    "from keras.models import Model\n",
    "from keras.layers import Input\n",
    "from keras import backend as K\n",
    "from PIL import Image\n",
    "import matplotlib.image as img\n",
    "import matplotlib.pyplot as plt\n",
    "from keras.layers.convolutional import Convolution2D, MaxPooling2D, ZeroPadding2D\n",
    "from keras import backend as K\n",
    "import tensorflow as tf\n",
    "from keras.preprocessing import image\n",
    "from keras.applications.imagenet_utils import preprocess_input\n",
    "import itertools as it"
   ]
  },
  {
   "cell_type": "code",
   "execution_count": null,
   "id": "74e899ee-9667-4a6c-8ed4-9e44e6d3d756",
   "metadata": {},
   "outputs": [],
   "source": [
    "with open(\"dataset.txt\") as f:\n",
    "    content = f.readlines()\n",
    "\n",
    "content = content[1:]"
   ]
  },
  {
   "cell_type": "code",
   "execution_count": null,
   "id": "ee616712-2f18-41ec-9c4c-683faa7b91c8",
   "metadata": {},
   "outputs": [],
   "source": [
    "def name_image(name=1):\n",
    "    if len(name) > 8:\n",
    "        return name\n",
    "    else:\n",
    "        for i in range(8 - len(name)):\n",
    "            name = \"0\" + name\n",
    "        return name"
   ]
  },
  {
   "cell_type": "code",
   "execution_count": null,
   "id": "75bd1968-4f91-45bc-a608-71a384c003a7",
   "metadata": {},
   "outputs": [],
   "source": [
    "def gen(batch_size=1, flag=\"train\"):\n",
    "    if flag == \"train\":\n",
    "        start = 1\n",
    "        end = 3\n",
    "    else:\n",
    "        start = 3\n",
    "        end = 4\n",
    "    x_train = np.zeros((batch_size, 256 * 256), dtype=\"float32\")\n",
    "    y_train = np.zeros((batch_size, 1), dtype=\"float32\")\n",
    "    while True:\n",
    "        for i in range(start, end):\n",
    "            for j in range(batch_size):\n",
    "\n",
    "                image_file_detail = content[j].split(\" \")\n",
    "\n",
    "                y_train[j, :] = float(image_file_detail[1])\n",
    "                path = \"images/\" + image_file_detail[0]\n",
    "\n",
    "                img = keras.utils.load_img(path, grayscale=True)\n",
    "                img = keras.utils.img_to_array(img)\n",
    "                img = preprocess_input(img, mode=\"tf\")\n",
    "                # x_train[j, :] = img.reshape(256,256)\n",
    "            yield x_train, y_train"
   ]
  },
  {
   "cell_type": "code",
   "execution_count": null,
   "id": "e62b253a-16ce-4742-a87e-c887c00880de",
   "metadata": {},
   "outputs": [],
   "source": [
    "def baseline_model():\n",
    "    my_model = Sequential()\n",
    "    my_model.add(Dense(4, input_dim=256 * 256, activation=\"relu\"))\n",
    "    my_model.add(Dense(1, activation=\"sigmoid\"))\n",
    "    my_model.summary()\n",
    "    # Compile model\n",
    "    my_model.compile(loss=\"mean_squared_error\", optimizer=\"sgd\")\n",
    "    return my_model"
   ]
  },
  {
   "cell_type": "code",
   "execution_count": null,
   "id": "90c30c24-6ac7-44af-a401-053aba2cde56",
   "metadata": {},
   "outputs": [],
   "source": [
    "model = baseline_model()\n",
    "batch_size = 16\n",
    "epochs = 100"
   ]
  },
  {
   "cell_type": "code",
   "execution_count": null,
   "id": "711eaf5e-b7b4-479d-ae0a-895a7602d1b5",
   "metadata": {},
   "outputs": [],
   "source": [
    "history = model.fit(\n",
    "    gen(batch_size=batch_size),\n",
    "    steps_per_epoch=2000 / batch_size,\n",
    "    epochs=epochs,\n",
    "    callbacks=None,\n",
    "    validation_data=gen(batch_size=batch_size, flag=\"val\"),\n",
    "    validation_steps=222 / batch_size,\n",
    ")"
   ]
  },
  {
   "cell_type": "code",
   "execution_count": null,
   "id": "c7ed7809-2985-46e8-8ad4-3ee0794472f1",
   "metadata": {},
   "outputs": [],
   "source": [
    "import matplotlib.pylab as plt\n",
    "from matplotlib.pyplot import figure\n",
    "\n",
    "figure(figsize=(8, 6))\n",
    "plt.plot(history.history[\"loss\"])\n",
    "plt.plot(history.history[\"val_loss\"])\n",
    "plt.title(\"model loss\")\n",
    "plt.ylabel(\"loss\")\n",
    "plt.xlabel(\"epoch\")\n",
    "plt.legend([\"train\", \"test\"], loc=\"upper left\")\n",
    "plt.savefig(\"plot.png\")\n",
    "plt.show()"
   ]
  }
 ],
 "metadata": {
  "kernelspec": {
   "display_name": "Python 3.10.3 64-bit",
   "language": "python",
   "name": "python3"
  },
  "language_info": {
   "codemirror_mode": {
    "name": "ipython",
    "version": 3
   },
   "file_extension": ".py",
   "mimetype": "text/x-python",
   "name": "python",
   "nbconvert_exporter": "python",
   "pygments_lexer": "ipython3",
   "version": "3.10.3"
  },
  "vscode": {
   "interpreter": {
    "hash": "aee8b7b246df8f9039afb4144a1f6fd8d2ca17a180786b69acc140d282b71a49"
   }
  }
 },
 "nbformat": 4,
 "nbformat_minor": 5
}
