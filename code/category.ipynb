{
 "cells": [
  {
   "cell_type": "code",
   "execution_count": 1,
   "id": "9de26d34-68d5-4682-8c22-28bb4991aeff",
   "metadata": {},
   "outputs": [],
   "source": [
    "import seaborn as sns\n",
    "import pandas as pd\n",
    "import matplotlib.pyplot as plt"
   ]
  },
  {
   "cell_type": "code",
   "execution_count": 2,
   "id": "54f1fb47-503f-4351-8fe0-5ea2c6445436",
   "metadata": {},
   "outputs": [],
   "source": [
    "data = pd.read_csv(\"../data/data.csv\")"
   ]
  },
  {
   "cell_type": "code",
   "execution_count": 3,
   "id": "4da7b132-d492-43d0-b381-de320e6186a6",
   "metadata": {},
   "outputs": [],
   "source": [
    "memcat = pd.read_csv(\"../data/memcat.csv\")"
   ]
  },
  {
   "cell_type": "code",
   "execution_count": 4,
   "id": "ee0f6a40-1f38-442e-a03c-7b26f80e8bc2",
   "metadata": {},
   "outputs": [],
   "source": [
    "data_sorted = data.sort_values(by=\"rank\")"
   ]
  },
  {
   "cell_type": "code",
   "execution_count": 5,
   "id": "0fa134c9-95f0-4f71-afb3-b0d71444dc32",
   "metadata": {},
   "outputs": [],
   "source": [
    "memcat_sorted = memcat.sort_values(by=\"rank\")"
   ]
  },
  {
   "attachments": {},
   "cell_type": "markdown",
   "id": "2dfe0583-57a5-4791-b55f-3cd56bbf1c64",
   "metadata": {},
   "source": [
    "## SemMem\n"
   ]
  },
  {
   "cell_type": "code",
   "execution_count": 6,
   "id": "708b69f9-12a4-4a76-860d-3baae8bcf6a6",
   "metadata": {},
   "outputs": [
    {
     "name": "stdout",
     "output_type": "stream",
     "text": [
      "{'animal': 0, 'food': 2, 'landscape': 4, 'sports': 4, 'vehicle': 10}\n"
     ]
    }
   ],
   "source": [
    "frequency = {\"animal\": 0, \"food\": 0, \"landscape\": 0, \"sports\": 0, \"vehicle\": 0}\n",
    "for key, item in data_sorted[len(data_sorted) - 20 :].iterrows():\n",
    "    frequency[item[\"category\"]] += 1\n",
    "print(frequency)"
   ]
  },
  {
   "cell_type": "code",
   "execution_count": 7,
   "id": "a89cb103-2f4c-4e1d-af05-55ad6168a5ff",
   "metadata": {},
   "outputs": [
    {
     "name": "stdout",
     "output_type": "stream",
     "text": [
      "{'animal': 6, 'food': 9, 'landscape': 11, 'sports': 6, 'vehicle': 18}\n"
     ]
    }
   ],
   "source": [
    "frequency = {\"animal\": 0, \"food\": 0, \"landscape\": 0, \"sports\": 0, \"vehicle\": 0}\n",
    "for key, item in data_sorted[len(data_sorted) - 50 :].iterrows():\n",
    "    frequency[item[\"category\"]] += 1\n",
    "print(frequency)"
   ]
  },
  {
   "cell_type": "code",
   "execution_count": 8,
   "id": "7c318b76-8865-4886-94e2-865580ac2375",
   "metadata": {},
   "outputs": [
    {
     "name": "stdout",
     "output_type": "stream",
     "text": [
      "{'animal': 6, 'food': 4, 'landscape': 3, 'sports': 3, 'vehicle': 4}\n"
     ]
    }
   ],
   "source": [
    "frequency = {\"animal\": 0, \"food\": 0, \"landscape\": 0, \"sports\": 0, \"vehicle\": 0}\n",
    "for key, item in data_sorted[:20].iterrows():\n",
    "    frequency[item[\"category\"]] += 1\n",
    "print(frequency)"
   ]
  },
  {
   "cell_type": "code",
   "execution_count": 9,
   "id": "0f0814f1-b147-4943-ac4e-7eaf176f16a3",
   "metadata": {},
   "outputs": [
    {
     "name": "stdout",
     "output_type": "stream",
     "text": [
      "{'animal': 17, 'food': 9, 'landscape': 5, 'sports': 10, 'vehicle': 9}\n"
     ]
    }
   ],
   "source": [
    "frequency = {\"animal\": 0, \"food\": 0, \"landscape\": 0, \"sports\": 0, \"vehicle\": 0}\n",
    "for key, item in data_sorted[:50].iterrows():\n",
    "    frequency[item[\"category\"]] += 1\n",
    "print(frequency)"
   ]
  },
  {
   "attachments": {},
   "cell_type": "markdown",
   "id": "e2803307-0512-4be7-9fd4-4ffcec9c6f64",
   "metadata": {},
   "source": [
    "## Memcat\n"
   ]
  },
  {
   "cell_type": "code",
   "execution_count": 10,
   "id": "c2d3b6fd-4a95-454b-8641-a5a325f04d4e",
   "metadata": {},
   "outputs": [
    {
     "data": {
      "text/html": [
       "<div>\n",
       "<style scoped>\n",
       "    .dataframe tbody tr th:only-of-type {\n",
       "        vertical-align: middle;\n",
       "    }\n",
       "\n",
       "    .dataframe tbody tr th {\n",
       "        vertical-align: top;\n",
       "    }\n",
       "\n",
       "    .dataframe thead th {\n",
       "        text-align: right;\n",
       "    }\n",
       "</style>\n",
       "<table border=\"1\" class=\"dataframe\">\n",
       "  <thead>\n",
       "    <tr style=\"text-align: right;\">\n",
       "      <th></th>\n",
       "      <th>image_file</th>\n",
       "      <th>category</th>\n",
       "      <th>rank</th>\n",
       "    </tr>\n",
       "  </thead>\n",
       "  <tbody>\n",
       "    <tr>\n",
       "      <th>5003</th>\n",
       "      <td>n09359803_14054.jpg</td>\n",
       "      <td>landscape</td>\n",
       "      <td>0.205882</td>\n",
       "    </tr>\n",
       "    <tr>\n",
       "      <th>4514</th>\n",
       "      <td>sun_augxrcssyuvvueda.jpg</td>\n",
       "      <td>landscape</td>\n",
       "      <td>0.220930</td>\n",
       "    </tr>\n",
       "    <tr>\n",
       "      <th>4891</th>\n",
       "      <td>sun_acgqrysmhvkbzwyo.jpg</td>\n",
       "      <td>landscape</td>\n",
       "      <td>0.228814</td>\n",
       "    </tr>\n",
       "    <tr>\n",
       "      <th>5490</th>\n",
       "      <td>n09421951_1478.jpg</td>\n",
       "      <td>landscape</td>\n",
       "      <td>0.244444</td>\n",
       "    </tr>\n",
       "    <tr>\n",
       "      <th>5246</th>\n",
       "      <td>n09415671_17246.jpg</td>\n",
       "      <td>landscape</td>\n",
       "      <td>0.247423</td>\n",
       "    </tr>\n",
       "    <tr>\n",
       "      <th>...</th>\n",
       "      <td>...</td>\n",
       "      <td>...</td>\n",
       "      <td>...</td>\n",
       "    </tr>\n",
       "    <tr>\n",
       "      <th>3444</th>\n",
       "      <td>n07863374_16769.jpg</td>\n",
       "      <td>food</td>\n",
       "      <td>0.982301</td>\n",
       "    </tr>\n",
       "    <tr>\n",
       "      <th>2138</th>\n",
       "      <td>000000511644.jpg</td>\n",
       "      <td>food</td>\n",
       "      <td>0.987179</td>\n",
       "    </tr>\n",
       "    <tr>\n",
       "      <th>2146</th>\n",
       "      <td>n07753592_11382.jpg</td>\n",
       "      <td>food</td>\n",
       "      <td>0.989247</td>\n",
       "    </tr>\n",
       "    <tr>\n",
       "      <th>3881</th>\n",
       "      <td>n07933274_34426.jpg</td>\n",
       "      <td>food</td>\n",
       "      <td>1.000000</td>\n",
       "    </tr>\n",
       "    <tr>\n",
       "      <th>2944</th>\n",
       "      <td>n07929519_31462.jpg</td>\n",
       "      <td>food</td>\n",
       "      <td>1.000000</td>\n",
       "    </tr>\n",
       "  </tbody>\n",
       "</table>\n",
       "<p>10000 rows × 3 columns</p>\n",
       "</div>"
      ],
      "text/plain": [
       "                    image_file   category      rank\n",
       "5003       n09359803_14054.jpg  landscape  0.205882\n",
       "4514  sun_augxrcssyuvvueda.jpg  landscape  0.220930\n",
       "4891  sun_acgqrysmhvkbzwyo.jpg  landscape  0.228814\n",
       "5490        n09421951_1478.jpg  landscape  0.244444\n",
       "5246       n09415671_17246.jpg  landscape  0.247423\n",
       "...                        ...        ...       ...\n",
       "3444       n07863374_16769.jpg       food  0.982301\n",
       "2138          000000511644.jpg       food  0.987179\n",
       "2146       n07753592_11382.jpg       food  0.989247\n",
       "3881       n07933274_34426.jpg       food  1.000000\n",
       "2944       n07929519_31462.jpg       food  1.000000\n",
       "\n",
       "[10000 rows x 3 columns]"
      ]
     },
     "execution_count": 10,
     "metadata": {},
     "output_type": "execute_result"
    }
   ],
   "source": [
    "memcat_sorted"
   ]
  },
  {
   "cell_type": "code",
   "execution_count": 11,
   "id": "2fa93952-9640-4329-b03d-a8c936795fa2",
   "metadata": {},
   "outputs": [
    {
     "name": "stdout",
     "output_type": "stream",
     "text": [
      "{'animal': 5, 'food': 15, 'landscape': 0, 'sports': 0, 'vehicle': 0}\n"
     ]
    }
   ],
   "source": [
    "frequency = {\"animal\": 0, \"food\": 0, \"landscape\": 0, \"sports\": 0, \"vehicle\": 0}\n",
    "for key, item in memcat_sorted[len(memcat_sorted) - 20 :].iterrows():\n",
    "    try:\n",
    "        frequency[item[\"category\"]] += 1\n",
    "    except:\n",
    "        print(item)\n",
    "print(frequency)"
   ]
  },
  {
   "cell_type": "code",
   "execution_count": 12,
   "id": "7fab728d-d7e1-4b94-b3c7-22e8c1e3736e",
   "metadata": {},
   "outputs": [
    {
     "name": "stdout",
     "output_type": "stream",
     "text": [
      "{'animal': 8, 'food': 41, 'landscape': 0, 'sports': 1, 'vehicle': 0}\n"
     ]
    }
   ],
   "source": [
    "frequency = {\"animal\": 0, \"food\": 0, \"landscape\": 0, \"sports\": 0, \"vehicle\": 0}\n",
    "for key, item in memcat_sorted[len(memcat_sorted) - 50 :].iterrows():\n",
    "    frequency[item[\"category\"]] += 1\n",
    "print(frequency)"
   ]
  },
  {
   "cell_type": "code",
   "execution_count": 13,
   "id": "867a3615-d70d-4daf-9273-c4343e7acf03",
   "metadata": {},
   "outputs": [
    {
     "name": "stdout",
     "output_type": "stream",
     "text": [
      "{'animal': 0, 'food': 0, 'landscape': 20, 'sports': 0, 'vehicle': 0}\n"
     ]
    }
   ],
   "source": [
    "frequency = {\"animal\": 0, \"food\": 0, \"landscape\": 0, \"sports\": 0, \"vehicle\": 0}\n",
    "for key, item in memcat_sorted[:20].iterrows():\n",
    "    frequency[item[\"category\"]] += 1\n",
    "print(frequency)"
   ]
  },
  {
   "cell_type": "code",
   "execution_count": 14,
   "id": "deb1a4db-a263-4b43-a572-65399a6cfd21",
   "metadata": {},
   "outputs": [
    {
     "name": "stdout",
     "output_type": "stream",
     "text": [
      "{'animal': 0, 'food': 0, 'landscape': 49, 'sports': 0, 'vehicle': 1}\n"
     ]
    }
   ],
   "source": [
    "frequency = {\"animal\": 0, \"food\": 0, \"landscape\": 0, \"sports\": 0, \"vehicle\": 0}\n",
    "for key, item in memcat_sorted[:50].iterrows():\n",
    "    frequency[item[\"category\"]] += 1\n",
    "print(frequency)"
   ]
  },
  {
   "attachments": {},
   "cell_type": "markdown",
   "id": "a0d64eff-b7a1-422e-ac22-fa312b712e28",
   "metadata": {},
   "source": [
    "## Total\n"
   ]
  },
  {
   "cell_type": "code",
   "execution_count": 15,
   "id": "9ca7a5d7-c780-45d0-8d66-3ae091c86ac5",
   "metadata": {},
   "outputs": [],
   "source": [
    "frequency = {\"animal\": 0, \"food\": 0, \"landscape\": 0, \"sports\": 0, \"vehicle\": 0}\n",
    "frequency_count = {\"animal\": 0, \"food\": 0, \"landscape\": 0, \"sports\": 0, \"vehicle\": 0}\n",
    "for key, item in data.iterrows():\n",
    "    frequency[item[\"category\"]] += item[\"rank\"]\n",
    "    frequency_count[item[\"category\"]] += 1"
   ]
  },
  {
   "cell_type": "code",
   "execution_count": 16,
   "id": "a2352427-aa48-4dee-a9ad-187c6db08fa9",
   "metadata": {},
   "outputs": [
    {
     "name": "stdout",
     "output_type": "stream",
     "text": [
      "animal : 0.5129464823517587\n",
      "food : 0.5152876648350002\n",
      "landscape : 0.5218640551050002\n",
      "sports : 0.5190238307849999\n",
      "vehicle : 0.5277931388955224\n"
     ]
    }
   ],
   "source": [
    "for item in frequency:\n",
    "    print(item, \":\", str(frequency[item] / frequency_count[item]))"
   ]
  },
  {
   "cell_type": "code",
   "execution_count": 17,
   "id": "45059eb7-63a7-4b51-9580-01d7b62c9c95",
   "metadata": {},
   "outputs": [],
   "source": [
    "frequency = {\"animal\": 0, \"food\": 0, \"landscape\": 0, \"sports\": 0, \"vehicle\": 0}\n",
    "frequency_count = {\"animal\": 0, \"food\": 0, \"landscape\": 0, \"sports\": 0, \"vehicle\": 0}\n",
    "for key, item in memcat.iterrows():\n",
    "    frequency[item[\"category\"]] += item[\"rank\"]\n",
    "    frequency_count[item[\"category\"]] += 1"
   ]
  },
  {
   "cell_type": "code",
   "execution_count": 18,
   "id": "1680507d-0e01-4753-92c6-a1ef26b97e09",
   "metadata": {},
   "outputs": [
    {
     "name": "stdout",
     "output_type": "stream",
     "text": [
      "animal : 0.8028231798609993\n",
      "food : 0.8532151377619973\n",
      "landscape : 0.5980921178889992\n",
      "sports : 0.7809453237954981\n",
      "vehicle : 0.7571780282519994\n"
     ]
    }
   ],
   "source": [
    "for item in frequency:\n",
    "    print(item, \":\", str(frequency[item] / frequency_count[item]))"
   ]
  },
  {
   "attachments": {},
   "cell_type": "markdown",
   "id": "54dc073b-84fb-49de-983a-715f44193da5",
   "metadata": {},
   "source": [
    "## In new image\n"
   ]
  },
  {
   "cell_type": "code",
   "execution_count": 19,
   "id": "efa2244a-86d3-4721-929b-465c8e4d7600",
   "metadata": {},
   "outputs": [],
   "source": [
    "new_image = data[data[\"new_image\"] == \"yes\"]"
   ]
  },
  {
   "cell_type": "code",
   "execution_count": 20,
   "id": "13693700-9940-4694-b238-f5c8fea0dcbe",
   "metadata": {},
   "outputs": [
    {
     "data": {
      "text/html": [
       "<div>\n",
       "<style scoped>\n",
       "    .dataframe tbody tr th:only-of-type {\n",
       "        vertical-align: middle;\n",
       "    }\n",
       "\n",
       "    .dataframe tbody tr th {\n",
       "        vertical-align: top;\n",
       "    }\n",
       "\n",
       "    .dataframe thead th {\n",
       "        text-align: right;\n",
       "    }\n",
       "</style>\n",
       "<table border=\"1\" class=\"dataframe\">\n",
       "  <thead>\n",
       "    <tr style=\"text-align: right;\">\n",
       "      <th></th>\n",
       "      <th>image</th>\n",
       "      <th>category</th>\n",
       "      <th>h</th>\n",
       "      <th>f</th>\n",
       "      <th>n_resp</th>\n",
       "      <th>rank</th>\n",
       "      <th>MemCat</th>\n",
       "      <th>h.1</th>\n",
       "      <th>f.1</th>\n",
       "      <th>n_resp.1</th>\n",
       "      <th>rank.1</th>\n",
       "      <th>new_image</th>\n",
       "    </tr>\n",
       "  </thead>\n",
       "  <tbody>\n",
       "    <tr>\n",
       "      <th>830</th>\n",
       "      <td>000333.jpg</td>\n",
       "      <td>vehicle</td>\n",
       "      <td>17</td>\n",
       "      <td>3</td>\n",
       "      <td>20</td>\n",
       "      <td>0.850000</td>\n",
       "      <td>NaN</td>\n",
       "      <td>NaN</td>\n",
       "      <td>NaN</td>\n",
       "      <td>NaN</td>\n",
       "      <td>NaN</td>\n",
       "      <td>yes</td>\n",
       "    </tr>\n",
       "    <tr>\n",
       "      <th>831</th>\n",
       "      <td>000334.jpg</td>\n",
       "      <td>sports</td>\n",
       "      <td>21</td>\n",
       "      <td>6</td>\n",
       "      <td>27</td>\n",
       "      <td>0.777778</td>\n",
       "      <td>NaN</td>\n",
       "      <td>NaN</td>\n",
       "      <td>NaN</td>\n",
       "      <td>NaN</td>\n",
       "      <td>NaN</td>\n",
       "      <td>yes</td>\n",
       "    </tr>\n",
       "    <tr>\n",
       "      <th>832</th>\n",
       "      <td>000335.jpg</td>\n",
       "      <td>vehicle</td>\n",
       "      <td>19</td>\n",
       "      <td>7</td>\n",
       "      <td>26</td>\n",
       "      <td>0.730769</td>\n",
       "      <td>NaN</td>\n",
       "      <td>NaN</td>\n",
       "      <td>NaN</td>\n",
       "      <td>NaN</td>\n",
       "      <td>NaN</td>\n",
       "      <td>yes</td>\n",
       "    </tr>\n",
       "    <tr>\n",
       "      <th>833</th>\n",
       "      <td>000336.jpg</td>\n",
       "      <td>food</td>\n",
       "      <td>21</td>\n",
       "      <td>7</td>\n",
       "      <td>28</td>\n",
       "      <td>0.750000</td>\n",
       "      <td>NaN</td>\n",
       "      <td>NaN</td>\n",
       "      <td>NaN</td>\n",
       "      <td>NaN</td>\n",
       "      <td>NaN</td>\n",
       "      <td>yes</td>\n",
       "    </tr>\n",
       "    <tr>\n",
       "      <th>834</th>\n",
       "      <td>000337.jpg</td>\n",
       "      <td>landscape</td>\n",
       "      <td>21</td>\n",
       "      <td>8</td>\n",
       "      <td>29</td>\n",
       "      <td>0.724138</td>\n",
       "      <td>NaN</td>\n",
       "      <td>NaN</td>\n",
       "      <td>NaN</td>\n",
       "      <td>NaN</td>\n",
       "      <td>NaN</td>\n",
       "      <td>yes</td>\n",
       "    </tr>\n",
       "    <tr>\n",
       "      <th>...</th>\n",
       "      <td>...</td>\n",
       "      <td>...</td>\n",
       "      <td>...</td>\n",
       "      <td>...</td>\n",
       "      <td>...</td>\n",
       "      <td>...</td>\n",
       "      <td>...</td>\n",
       "      <td>...</td>\n",
       "      <td>...</td>\n",
       "      <td>...</td>\n",
       "      <td>...</td>\n",
       "      <td>...</td>\n",
       "    </tr>\n",
       "    <tr>\n",
       "      <th>995</th>\n",
       "      <td>000498.jpg</td>\n",
       "      <td>food</td>\n",
       "      <td>19</td>\n",
       "      <td>30</td>\n",
       "      <td>49</td>\n",
       "      <td>0.387755</td>\n",
       "      <td>NaN</td>\n",
       "      <td>NaN</td>\n",
       "      <td>NaN</td>\n",
       "      <td>NaN</td>\n",
       "      <td>NaN</td>\n",
       "      <td>yes</td>\n",
       "    </tr>\n",
       "    <tr>\n",
       "      <th>996</th>\n",
       "      <td>000499.jpg</td>\n",
       "      <td>animal</td>\n",
       "      <td>17</td>\n",
       "      <td>30</td>\n",
       "      <td>47</td>\n",
       "      <td>0.361702</td>\n",
       "      <td>NaN</td>\n",
       "      <td>NaN</td>\n",
       "      <td>NaN</td>\n",
       "      <td>NaN</td>\n",
       "      <td>NaN</td>\n",
       "      <td>yes</td>\n",
       "    </tr>\n",
       "    <tr>\n",
       "      <th>997</th>\n",
       "      <td>000500.jpg</td>\n",
       "      <td>animal</td>\n",
       "      <td>21</td>\n",
       "      <td>31</td>\n",
       "      <td>52</td>\n",
       "      <td>0.403846</td>\n",
       "      <td>NaN</td>\n",
       "      <td>NaN</td>\n",
       "      <td>NaN</td>\n",
       "      <td>NaN</td>\n",
       "      <td>NaN</td>\n",
       "      <td>yes</td>\n",
       "    </tr>\n",
       "    <tr>\n",
       "      <th>998</th>\n",
       "      <td>000501.jpg</td>\n",
       "      <td>food</td>\n",
       "      <td>17</td>\n",
       "      <td>31</td>\n",
       "      <td>48</td>\n",
       "      <td>0.354167</td>\n",
       "      <td>NaN</td>\n",
       "      <td>NaN</td>\n",
       "      <td>NaN</td>\n",
       "      <td>NaN</td>\n",
       "      <td>NaN</td>\n",
       "      <td>yes</td>\n",
       "    </tr>\n",
       "    <tr>\n",
       "      <th>999</th>\n",
       "      <td>000502.jpg</td>\n",
       "      <td>sports</td>\n",
       "      <td>19</td>\n",
       "      <td>33</td>\n",
       "      <td>52</td>\n",
       "      <td>0.365385</td>\n",
       "      <td>NaN</td>\n",
       "      <td>NaN</td>\n",
       "      <td>NaN</td>\n",
       "      <td>NaN</td>\n",
       "      <td>NaN</td>\n",
       "      <td>yes</td>\n",
       "    </tr>\n",
       "  </tbody>\n",
       "</table>\n",
       "<p>170 rows × 12 columns</p>\n",
       "</div>"
      ],
      "text/plain": [
       "          image   category   h   f  n_resp      rank MemCat  h.1  f.1  \\\n",
       "830  000333.jpg    vehicle  17   3      20  0.850000    NaN  NaN  NaN   \n",
       "831  000334.jpg     sports  21   6      27  0.777778    NaN  NaN  NaN   \n",
       "832  000335.jpg    vehicle  19   7      26  0.730769    NaN  NaN  NaN   \n",
       "833  000336.jpg       food  21   7      28  0.750000    NaN  NaN  NaN   \n",
       "834  000337.jpg  landscape  21   8      29  0.724138    NaN  NaN  NaN   \n",
       "..          ...        ...  ..  ..     ...       ...    ...  ...  ...   \n",
       "995  000498.jpg       food  19  30      49  0.387755    NaN  NaN  NaN   \n",
       "996  000499.jpg     animal  17  30      47  0.361702    NaN  NaN  NaN   \n",
       "997  000500.jpg     animal  21  31      52  0.403846    NaN  NaN  NaN   \n",
       "998  000501.jpg       food  17  31      48  0.354167    NaN  NaN  NaN   \n",
       "999  000502.jpg     sports  19  33      52  0.365385    NaN  NaN  NaN   \n",
       "\n",
       "     n_resp.1  rank.1 new_image  \n",
       "830       NaN     NaN       yes  \n",
       "831       NaN     NaN       yes  \n",
       "832       NaN     NaN       yes  \n",
       "833       NaN     NaN       yes  \n",
       "834       NaN     NaN       yes  \n",
       "..        ...     ...       ...  \n",
       "995       NaN     NaN       yes  \n",
       "996       NaN     NaN       yes  \n",
       "997       NaN     NaN       yes  \n",
       "998       NaN     NaN       yes  \n",
       "999       NaN     NaN       yes  \n",
       "\n",
       "[170 rows x 12 columns]"
      ]
     },
     "execution_count": 20,
     "metadata": {},
     "output_type": "execute_result"
    }
   ],
   "source": [
    "new_image"
   ]
  },
  {
   "cell_type": "code",
   "execution_count": 21,
   "id": "cd9f4d1f-d5bc-42a2-8bd9-0569ce881e20",
   "metadata": {},
   "outputs": [],
   "source": [
    "new_image_sorted = new_image.sort_values(by=\"rank\")"
   ]
  },
  {
   "cell_type": "code",
   "execution_count": 22,
   "id": "d7dce24e-498d-4a23-89b6-7d8cab06d480",
   "metadata": {},
   "outputs": [
    {
     "name": "stdout",
     "output_type": "stream",
     "text": [
      "{'animal': 5, 'food': 4, 'landscape': 5, 'sports': 3, 'vehicle': 3}\n"
     ]
    }
   ],
   "source": [
    "frequency = {\"animal\": 0, \"food\": 0, \"landscape\": 0, \"sports\": 0, \"vehicle\": 0}\n",
    "for key, item in new_image_sorted[len(new_image_sorted) - 20 :].iterrows():\n",
    "    frequency[item[\"category\"]] += 1\n",
    "print(frequency)"
   ]
  },
  {
   "cell_type": "code",
   "execution_count": 23,
   "id": "9d83ae5e-9efb-4003-85b8-b592bd2fdcd9",
   "metadata": {},
   "outputs": [
    {
     "name": "stdout",
     "output_type": "stream",
     "text": [
      "{'animal': 11, 'food': 10, 'landscape': 9, 'sports': 10, 'vehicle': 10}\n"
     ]
    }
   ],
   "source": [
    "frequency = {\"animal\": 0, \"food\": 0, \"landscape\": 0, \"sports\": 0, \"vehicle\": 0}\n",
    "for key, item in new_image_sorted[len(new_image_sorted) - 50 :].iterrows():\n",
    "    frequency[item[\"category\"]] += 1\n",
    "print(frequency)"
   ]
  },
  {
   "cell_type": "code",
   "execution_count": 24,
   "id": "5b1e7a69-65c7-494e-9e2a-36da21ebd03b",
   "metadata": {},
   "outputs": [
    {
     "name": "stdout",
     "output_type": "stream",
     "text": [
      "{'animal': 6, 'food': 4, 'landscape': 0, 'sports': 5, 'vehicle': 5}\n"
     ]
    }
   ],
   "source": [
    "frequency = {\"animal\": 0, \"food\": 0, \"landscape\": 0, \"sports\": 0, \"vehicle\": 0}\n",
    "for key, item in new_image_sorted[:20].iterrows():\n",
    "    frequency[item[\"category\"]] += 1\n",
    "print(frequency)"
   ]
  },
  {
   "cell_type": "code",
   "execution_count": 25,
   "id": "b73181a6-ff79-4618-8219-453bb29ef40e",
   "metadata": {},
   "outputs": [
    {
     "name": "stdout",
     "output_type": "stream",
     "text": [
      "{'animal': 10, 'food': 9, 'landscape': 11, 'sports': 10, 'vehicle': 10}\n"
     ]
    }
   ],
   "source": [
    "frequency = {\"animal\": 0, \"food\": 0, \"landscape\": 0, \"sports\": 0, \"vehicle\": 0}\n",
    "for key, item in new_image_sorted[:50].iterrows():\n",
    "    frequency[item[\"category\"]] += 1\n",
    "print(frequency)"
   ]
  },
  {
   "cell_type": "code",
   "execution_count": 26,
   "id": "f5a90323-6f67-4d39-aaca-a53f1340f3bf",
   "metadata": {},
   "outputs": [],
   "source": [
    "frequency = {\"animal\": 0, \"food\": 0, \"landscape\": 0, \"sports\": 0, \"vehicle\": 0}\n",
    "frequency_count = {\"animal\": 0, \"food\": 0, \"landscape\": 0, \"sports\": 0, \"vehicle\": 0}\n",
    "for key, item in new_image.iterrows():\n",
    "    frequency[item[\"category\"]] += item[\"rank\"]\n",
    "    frequency_count[item[\"category\"]] += 1"
   ]
  },
  {
   "cell_type": "code",
   "execution_count": 27,
   "id": "e0e7e3e8-f8a0-4640-a185-8bb29aa0d7d9",
   "metadata": {},
   "outputs": [
    {
     "name": "stdout",
     "output_type": "stream",
     "text": [
      "animal : 0.5167662046969697\n",
      "food : 0.5263440582941177\n",
      "landscape : 0.5215099947352941\n",
      "sports : 0.5197916021764705\n",
      "vehicle : 0.5223624766857142\n"
     ]
    }
   ],
   "source": [
    "for item in frequency:\n",
    "    print(item, \":\", str(frequency[item] / frequency_count[item]))"
   ]
  },
  {
   "cell_type": "code",
   "execution_count": null,
   "id": "d69f038e-99bf-4735-a955-b105a2c67005",
   "metadata": {},
   "outputs": [],
   "source": []
  }
 ],
 "metadata": {
  "kernelspec": {
   "display_name": "Python 3 (ipykernel)",
   "language": "python",
   "name": "python3"
  },
  "language_info": {
   "codemirror_mode": {
    "name": "ipython",
    "version": 3
   },
   "file_extension": ".py",
   "mimetype": "text/x-python",
   "name": "python",
   "nbconvert_exporter": "python",
   "pygments_lexer": "ipython3",
   "version": "3.9.13"
  }
 },
 "nbformat": 4,
 "nbformat_minor": 5
}
