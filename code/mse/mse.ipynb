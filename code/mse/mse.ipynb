{
 "cells": [
  {
   "cell_type": "code",
   "execution_count": 1,
   "id": "8a4897ff-a484-4731-a7f3-3296faf364c5",
   "metadata": {},
   "outputs": [],
   "source": [
    "import numpy as np\n",
    "import pandas as pd\n",
    "from sklearn.metrics import mean_squared_error"
   ]
  },
  {
   "cell_type": "code",
   "execution_count": 2,
   "id": "cd4addd7-7583-4e0d-8d84-8b03ed87db2f",
   "metadata": {},
   "outputs": [],
   "source": [
    "dataset_resnet50_memcat = pd.read_csv(\"predictions_resnet50_memcat.csv\")\n",
    "dataset_resnet101_memcat = pd.read_csv(\"predictions_resnet101_memcat.csv\")"
   ]
  },
  {
   "cell_type": "code",
   "execution_count": 3,
   "id": "29746b80-311f-4d74-892b-507d3a106242",
   "metadata": {},
   "outputs": [],
   "source": [
    "mse_resnet50_memcat = mean_squared_error(\n",
    "    dataset_resnet50_memcat[\"real\"], dataset_resnet50_memcat[\"prediction\"]\n",
    ")\n",
    "mse_resnet101_memcat = mean_squared_error(\n",
    "    dataset_resnet101_memcat[\"real\"], dataset_resnet101_memcat[\"prediction\"]\n",
    ")"
   ]
  },
  {
   "cell_type": "code",
   "execution_count": 4,
   "id": "01beaea3-1c1f-44db-94d7-9ecf5aae39da",
   "metadata": {},
   "outputs": [
    {
     "name": "stdout",
     "output_type": "stream",
     "text": [
      "0.08099850526500293\n"
     ]
    }
   ],
   "source": [
    "print(mse_resnet50_memcat)"
   ]
  },
  {
   "cell_type": "code",
   "execution_count": 5,
   "id": "ca45a5a0-0158-4f22-9d78-6418de408d04",
   "metadata": {},
   "outputs": [
    {
     "name": "stdout",
     "output_type": "stream",
     "text": [
      "0.0825070215862319\n"
     ]
    }
   ],
   "source": [
    "print(mse_resnet101_memcat)"
   ]
  },
  {
   "cell_type": "code",
   "execution_count": null,
   "id": "d10fa2f0-937d-49a1-bef9-1e6eef870588",
   "metadata": {},
   "outputs": [],
   "source": []
  }
 ],
 "metadata": {
  "kernelspec": {
   "display_name": "Python 3 (ipykernel)",
   "language": "python",
   "name": "python3"
  },
  "language_info": {
   "codemirror_mode": {
    "name": "ipython",
    "version": 3
   },
   "file_extension": ".py",
   "mimetype": "text/x-python",
   "name": "python",
   "nbconvert_exporter": "python",
   "pygments_lexer": "ipython3",
   "version": "3.9.13"
  }
 },
 "nbformat": 4,
 "nbformat_minor": 5
}
