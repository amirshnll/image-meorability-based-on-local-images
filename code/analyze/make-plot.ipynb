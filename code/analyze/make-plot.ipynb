{
 "cells": [
  {
   "cell_type": "code",
   "execution_count": null,
   "id": "6d0ac3d8-eb76-4803-acc8-7e0cada7f9c3",
   "metadata": {},
   "outputs": [],
   "source": [
    "import os\n",
    "import matplotlib.pyplot as plt\n",
    "import matplotlib.image as mpimg\n",
    "import random"
   ]
  },
  {
   "attachments": {},
   "cell_type": "markdown",
   "id": "250af56d-866e-4745-8f60-51d87baee7c7",
   "metadata": {},
   "source": [
    "## LaMem\n"
   ]
  },
  {
   "cell_type": "code",
   "execution_count": null,
   "id": "24194136-8dfa-4a63-a9b9-cfec0e5a2aea",
   "metadata": {},
   "outputs": [],
   "source": [
    "rank_number = []\n",
    "\n",
    "with open(\"../data/lamem.txt\") as f:\n",
    "    for line in f:\n",
    "\n",
    "        temp_string = line.replace(\"\\n\", \"\")\n",
    "        temp_string = temp_string.split(\" \")\n",
    "\n",
    "        rank_number.append({\"img\": temp_string[0], \"rank\": temp_string[1]})"
   ]
  },
  {
   "cell_type": "code",
   "execution_count": null,
   "id": "91f0355b-f765-4184-a774-01baa294b952",
   "metadata": {},
   "outputs": [],
   "source": [
    "path = \"../images/lamem/\"\n",
    "files_count = 8\n",
    "images = []\n",
    "\n",
    "for i in range(0, files_count):\n",
    "    image = random.choice(rank_number)\n",
    "    img_path = path + image[\"img\"]\n",
    "\n",
    "    temp_rank = img_path.replace(path, \"\")\n",
    "\n",
    "    images.append({\"img\": img_path, \"rank\": image[\"rank\"]})\n",
    "\n",
    "plt.figure()\n",
    "_, fig = plt.subplots(2, 4, figsize=(20, 10))\n",
    "fig = fig.flatten()\n",
    "i = 0\n",
    "\n",
    "\n",
    "for f in fig:\n",
    "    f.imshow(mpimg.imread(images[i][\"img\"]))\n",
    "    f.axis(\"off\")\n",
    "    f.title.set_text(images[i][\"rank\"])\n",
    "\n",
    "    i += 1\n",
    "\n",
    "plt.subplots_adjust(bottom=0.3)\n",
    "plt.savefig(\"image/lamem-fig.jpg\")"
   ]
  },
  {
   "attachments": {},
   "cell_type": "markdown",
   "id": "402d671f-000a-4391-a39f-f9b7c219fa3b",
   "metadata": {},
   "source": [
    "## MEMCAT\n"
   ]
  },
  {
   "cell_type": "code",
   "execution_count": null,
   "id": "a50aa11b-c0ea-4c61-a46e-2311f8dd5386",
   "metadata": {},
   "outputs": [],
   "source": [
    "rank_number = []\n",
    "\n",
    "with open(\"../data/memcat.txt\") as f:\n",
    "    for line in f:\n",
    "\n",
    "        temp_string = line.replace(\"\\n\", \"\")\n",
    "        temp_string = temp_string.split(\",\")\n",
    "\n",
    "        rank_number.append({\"img\": temp_string[0], \"rank\": temp_string[2]})"
   ]
  },
  {
   "cell_type": "code",
   "execution_count": null,
   "id": "11e9f23f-bdcb-43ba-af51-677f6b08ad5e",
   "metadata": {},
   "outputs": [],
   "source": [
    "path = \"../images/memcat/\"\n",
    "files_count = 8\n",
    "images = []\n",
    "\n",
    "for i in range(0, files_count):\n",
    "    image = random.choice(rank_number)\n",
    "    img_path = path + image[\"img\"]\n",
    "\n",
    "    temp_rank = img_path.replace(path, \"\")\n",
    "\n",
    "    images.append({\"img\": img_path, \"rank\": image[\"rank\"]})\n",
    "\n",
    "plt.figure()\n",
    "_, fig = plt.subplots(2, 4, figsize=(20, 10))\n",
    "fig = fig.flatten()\n",
    "i = 0\n",
    "\n",
    "\n",
    "for f in fig:\n",
    "    f.imshow(mpimg.imread(images[i][\"img\"]))\n",
    "    f.axis(\"off\")\n",
    "    f.title.set_text(images[i][\"rank\"])\n",
    "\n",
    "    i += 1\n",
    "\n",
    "plt.subplots_adjust(bottom=0.3)\n",
    "plt.savefig(\"image/memcat-fig.jpg\")"
   ]
  },
  {
   "attachments": {},
   "cell_type": "markdown",
   "id": "f2dc4e58-f00a-4af3-b85c-bff144ed8959",
   "metadata": {},
   "source": [
    "## SemMem\n"
   ]
  },
  {
   "cell_type": "code",
   "execution_count": null,
   "id": "c3a3a18c-6ad3-4c9f-b55c-2831c6cea45e",
   "metadata": {},
   "outputs": [],
   "source": [
    "rank_number = []\n",
    "\n",
    "with open(\"../data/semmem-vs-memcat.csv\") as f:\n",
    "    for line in f:\n",
    "\n",
    "        temp_string = line.replace(\"\\n\", \"\")\n",
    "        temp_string = temp_string.split(\",\")\n",
    "\n",
    "        if temp_string[1] == \"iran\":\n",
    "            rank_number.append({\"img\": temp_string[0], \"rank\": temp_string[5]})"
   ]
  },
  {
   "cell_type": "code",
   "execution_count": null,
   "id": "a686721a-9197-4318-93e4-708e432f26b7",
   "metadata": {},
   "outputs": [],
   "source": [
    "path = \"../images/semmem/iran/\"\n",
    "files_count = 8\n",
    "images = []\n",
    "\n",
    "for i in range(0, files_count):\n",
    "    image = random.choice(rank_number)\n",
    "    img_path = path + image[\"img\"]\n",
    "\n",
    "    temp_rank = img_path.replace(path, \"\")\n",
    "\n",
    "    images.append({\"img\": img_path, \"rank\": image[\"rank\"]})\n",
    "\n",
    "plt.figure()\n",
    "_, fig = plt.subplots(2, 4, figsize=(20, 10))\n",
    "fig = fig.flatten()\n",
    "i = 0\n",
    "\n",
    "\n",
    "for f in fig:\n",
    "    f.imshow(mpimg.imread(images[i][\"img\"]))\n",
    "    f.axis(\"off\")\n",
    "    f.title.set_text(images[i][\"rank\"])\n",
    "\n",
    "    i += 1\n",
    "\n",
    "plt.subplots_adjust(bottom=0.3)\n",
    "plt.savefig(\"image/semmem-fig.jpg\")"
   ]
  }
 ],
 "metadata": {
  "kernelspec": {
   "display_name": "Python 3 (ipykernel)",
   "language": "python",
   "name": "python3"
  },
  "language_info": {
   "codemirror_mode": {
    "name": "ipython",
    "version": 3
   },
   "file_extension": ".py",
   "mimetype": "text/x-python",
   "name": "python",
   "nbconvert_exporter": "python",
   "pygments_lexer": "ipython3",
   "version": "3.9.13"
  }
 },
 "nbformat": 4,
 "nbformat_minor": 5
}
