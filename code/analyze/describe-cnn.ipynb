{
 "cells": [
  {
   "cell_type": "code",
   "execution_count": 1,
   "id": "9cf47623-982b-4aff-bc5d-38501b3a10e7",
   "metadata": {},
   "outputs": [],
   "source": [
    "import seaborn as sns\n",
    "import pandas as pd\n",
    "import matplotlib.pyplot as plt\n",
    "import matplotlib.image as mpimg\n",
    "import numpy as np\n",
    "import pandas as pd\n",
    "import seaborn as sns\n",
    "import matplotlib.pyplot as plt\n",
    "import statistics\n",
    "import os\n",
    "import random\n",
    "import sklearn\n",
    "import sklearn.model_selection\n",
    "import scipy.stats"
   ]
  },
  {
   "cell_type": "code",
   "execution_count": 2,
   "id": "e760be6a-9e1e-4ec4-9134-f53c83126791",
   "metadata": {},
   "outputs": [],
   "source": [
    "resnet50 = pd.read_csv(\"data/predictions_resnet50_memcat.csv\")\n",
    "resnet101 = pd.read_csv(\"data/predictions_resnet101.csv\")"
   ]
  },
  {
   "cell_type": "code",
   "execution_count": 3,
   "id": "61ac9ef3-716a-4518-bd8f-ac044275e569",
   "metadata": {},
   "outputs": [
    {
     "data": {
      "text/plain": [
       "count    1000.000000\n",
       "mean        0.728659\n",
       "std         0.168179\n",
       "min         0.232966\n",
       "25%         0.622084\n",
       "50%         0.728757\n",
       "75%         0.840365\n",
       "max         1.387698\n",
       "Name: prediction, dtype: float64"
      ]
     },
     "execution_count": 3,
     "metadata": {},
     "output_type": "execute_result"
    }
   ],
   "source": [
    "resnet50[\"prediction\"].describe()"
   ]
  },
  {
   "cell_type": "code",
   "execution_count": 4,
   "id": "f35502dd-0792-4c1a-b16a-300bf1abb007",
   "metadata": {},
   "outputs": [
    {
     "data": {
      "text/plain": [
       "count    1000.000000\n",
       "mean        0.761075\n",
       "std         0.122524\n",
       "min         0.361370\n",
       "25%         0.688228\n",
       "50%         0.774159\n",
       "75%         0.840472\n",
       "max         1.125628\n",
       "Name: prediction, dtype: float64"
      ]
     },
     "execution_count": 4,
     "metadata": {},
     "output_type": "execute_result"
    }
   ],
   "source": [
    "resnet101[\"prediction\"].describe()"
   ]
  },
  {
   "cell_type": "code",
   "execution_count": 5,
   "id": "9b208d21-cbe3-4ec3-b2e1-99003a95b92b",
   "metadata": {},
   "outputs": [
    {
     "name": "stdout",
     "output_type": "stream",
     "text": [
      "0.5200297755926465\n"
     ]
    }
   ],
   "source": [
    "spearman_loop = 25\n",
    "resnet50 = pd.read_csv(\"data/predictions_resnet50_memcat.csv\")\n",
    "\n",
    "spearman_ranks_resnet50 = []\n",
    "for i in range(spearman_loop):\n",
    "    spearman_ranks_resnet50.append(0)\n",
    "\n",
    "for i in range(spearman_loop):\n",
    "\n",
    "    list1, list2 = sklearn.model_selection.train_test_split(resnet50, train_size=0.5)\n",
    "\n",
    "    list1 = list(list1[\"prediction\"])\n",
    "    list2 = list(list2[\"prediction\"])\n",
    "\n",
    "    temp_spearman = scipy.stats.spearmanr(list1, list2)\n",
    "    spearman_ranks_resnet50[i] = temp_spearman.pvalue\n",
    "\n",
    "print(statistics.mean(spearman_ranks_resnet50))"
   ]
  },
  {
   "cell_type": "code",
   "execution_count": 6,
   "id": "6d9c95a8-1402-432d-a633-ab649bde21c0",
   "metadata": {},
   "outputs": [
    {
     "name": "stdout",
     "output_type": "stream",
     "text": [
      "0.5730370401843691\n"
     ]
    }
   ],
   "source": [
    "spearman_loop = 25\n",
    "resnet50 = pd.read_csv(\"data/predictions_resnet101.csv\")\n",
    "\n",
    "spearman_ranks_resnet101 = []\n",
    "for i in range(spearman_loop):\n",
    "    spearman_ranks_resnet101.append(0)\n",
    "\n",
    "for i in range(spearman_loop):\n",
    "\n",
    "    list1, list2 = sklearn.model_selection.train_test_split(resnet101, train_size=0.5)\n",
    "\n",
    "    list1 = list(list1[\"prediction\"])\n",
    "    list2 = list(list2[\"prediction\"])\n",
    "\n",
    "    temp_spearman = scipy.stats.spearmanr(list1, list2)\n",
    "    spearman_ranks_resnet101[i] = temp_spearman.pvalue\n",
    "\n",
    "print(statistics.mean(spearman_ranks_resnet101))"
   ]
  },
  {
   "cell_type": "code",
   "execution_count": null,
   "id": "58228b77-5713-421e-a2c0-b5a4ae3e1e88",
   "metadata": {},
   "outputs": [],
   "source": []
  }
 ],
 "metadata": {
  "kernelspec": {
   "display_name": "Python 3 (ipykernel)",
   "language": "python",
   "name": "python3"
  },
  "language_info": {
   "codemirror_mode": {
    "name": "ipython",
    "version": 3
   },
   "file_extension": ".py",
   "mimetype": "text/x-python",
   "name": "python",
   "nbconvert_exporter": "python",
   "pygments_lexer": "ipython3",
   "version": "3.9.13"
  }
 },
 "nbformat": 4,
 "nbformat_minor": 5
}
