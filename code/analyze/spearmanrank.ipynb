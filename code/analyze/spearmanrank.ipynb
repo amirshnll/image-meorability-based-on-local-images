{
 "cells": [
  {
   "cell_type": "code",
   "execution_count": 1,
   "id": "eec5f9e5-5aa7-417d-8994-e5348af4a648",
   "metadata": {},
   "outputs": [],
   "source": [
    "import numpy as np\n",
    "import pandas as pd\n",
    "import seaborn as sns\n",
    "import matplotlib.pyplot as plt\n",
    "import statistics\n",
    "import os\n",
    "import random\n",
    "import sklearn\n",
    "import sklearn.model_selection\n",
    "import scipy.stats"
   ]
  },
  {
   "cell_type": "code",
   "execution_count": 2,
   "id": "292dd530-50e3-43be-871f-7e3bfee9cd7b",
   "metadata": {},
   "outputs": [
    {
     "name": "stdout",
     "output_type": "stream",
     "text": [
      "0.5487469873030071\n"
     ]
    }
   ],
   "source": [
    "spearman_loop = 25\n",
    "dataset_semmem = pd.read_csv(\"../data/semmem-vs-memcat.csv\")\n",
    "\n",
    "spearman_ranks_semmem = []\n",
    "for i in range(spearman_loop):\n",
    "    spearman_ranks_semmem.append(0)\n",
    "\n",
    "for i in range(spearman_loop):\n",
    "\n",
    "    list1, list2 = sklearn.model_selection.train_test_split(\n",
    "        dataset_semmem, train_size=0.5\n",
    "    )\n",
    "\n",
    "    list1 = list(list1[\"rank_semmem\"])\n",
    "    list2 = list(list2[\"rank_semmem\"])\n",
    "\n",
    "    temp_spearman = scipy.stats.spearmanr(list1, list2)\n",
    "    spearman_ranks_semmem[i] = temp_spearman.pvalue\n",
    "\n",
    "print(statistics.mean(spearman_ranks_semmem))"
   ]
  },
  {
   "cell_type": "code",
   "execution_count": null,
   "id": "e5dffa07-ab39-4b64-96a3-a04b7007bff5",
   "metadata": {},
   "outputs": [],
   "source": []
  }
 ],
 "metadata": {
  "kernelspec": {
   "display_name": "Python 3 (ipykernel)",
   "language": "python",
   "name": "python3"
  },
  "language_info": {
   "codemirror_mode": {
    "name": "ipython",
    "version": 3
   },
   "file_extension": ".py",
   "mimetype": "text/x-python",
   "name": "python",
   "nbconvert_exporter": "python",
   "pygments_lexer": "ipython3",
   "version": "3.9.13"
  }
 },
 "nbformat": 4,
 "nbformat_minor": 5
}
