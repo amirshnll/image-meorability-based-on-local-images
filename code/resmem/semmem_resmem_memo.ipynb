{
  "cells": [
    {
      "cell_type": "code",
      "execution_count": null,
      "metadata": {
        "id": "eCWd9HO3HeKf"
      },
      "outputs": [],
      "source": [
        "pip install resmem"
      ]
    },
    {
      "cell_type": "code",
      "execution_count": 36,
      "metadata": {
        "id": "RF9cF_SaQDoD"
      },
      "outputs": [],
      "source": [
        "import os\n",
        "import tqdm\n",
        "from resmem import ResMem, transformer"
      ]
    },
    {
      "cell_type": "code",
      "execution_count": 2,
      "metadata": {
        "id": "TRICkPbaHr8n"
      },
      "outputs": [],
      "source": [
        "model = ResMem(pretrained=True)"
      ]
    },
    {
      "cell_type": "code",
      "execution_count": 39,
      "metadata": {
        "id": "4gYkkQrgHtrx"
      },
      "outputs": [],
      "source": [
        "from PIL import Image\n",
        "\n",
        "dataset_path = \"./dataset/\"\n",
        "category = [\"animal\", \"food\", \"iran\", \"landscape\", \"sports\", \"vehicle\"]"
      ]
    },
    {
      "cell_type": "code",
      "execution_count": null,
      "metadata": {
        "id": "AP-Oe7NfK5Uo"
      },
      "outputs": [],
      "source": [
        "for cat in category:\n",
        "    for file in os.listdir(dataset_path + str(cat) + \"/\"):\n",
        "        print(file)"
      ]
    },
    {
      "cell_type": "code",
      "execution_count": 58,
      "metadata": {
        "id": "u53NpwyzxEwA"
      },
      "outputs": [],
      "source": [
        "!mkdir result\n"
      ]
    },
    {
      "cell_type": "code",
      "execution_count": 60,
      "metadata": {
        "id": "Pf2Aekm4wFXb"
      },
      "outputs": [],
      "source": [
        "for cat in category:\n",
        "    category_name = str(cat)\n",
        "    for file in os.listdir(dataset_path + category_name + \"/\"):\n",
        "        with open(\"result/\" + category_name + \".txt\", \"a\") as f:\n",
        "            img = Image.open(dataset_path + category_name + \"/\" + file)\n",
        "            img = img.convert(\"RGB\")\n",
        "            model.eval()\n",
        "            image_x = transformer(img)\n",
        "            prediction = model(image_x.view(-1, 3, 227, 227))\n",
        "            f.write(str(file) + \" \" + str(prediction[0]) + \"\\n\")"
      ]
    }
  ],
  "metadata": {
    "colab": {
      "name": "iranmem-resmem-memo.ipynb",
      "provenance": []
    },
    "kernelspec": {
      "display_name": "Python 3.10.3 64-bit",
      "language": "python",
      "name": "python3"
    },
    "language_info": {
      "name": "python",
      "version": "3.10.3"
    },
    "vscode": {
      "interpreter": {
        "hash": "aee8b7b246df8f9039afb4144a1f6fd8d2ca17a180786b69acc140d282b71a49"
      }
    }
  },
  "nbformat": 4,
  "nbformat_minor": 0
}
