{
  "cells": [
    {
      "cell_type": "code",
      "execution_count": null,
      "metadata": {
        "id": "tUDLv3svQEFC"
      },
      "outputs": [],
      "source": [
        "# Import modules\n",
        "import pylab as pl\n",
        "from scipy import stats\n",
        "import numpy as np\n",
        "\n",
        "# Function for Violin Plot\n",
        "\n",
        "\n",
        "def violin_plot(ax, data, groups, bp=False):\n",
        "    dist = max(groups) - min(groups)\n",
        "    w = min(0.15 * max(dist, 1.0), 0.4)\n",
        "    for d, p in zip(data, groups):\n",
        "        k = stats.gaussian_kde(d)\n",
        "        m = k.dataset.min()\n",
        "        M = k.dataset.max()\n",
        "        x = np.arange(m, M, (M - m) / 100.0)\n",
        "        v = k.evaluate(x)\n",
        "        v = v / v.max() * w\n",
        "        ax.fill_betweenx(x, p, v + p, facecolor=\"b\", edgecolors=\"black\", alpha=0.9)\n",
        "        ax.fill_betweenx(x, p, -v + p, facecolor=\"b\", edgecolors=\"black\", alpha=0.9)\n",
        "    if bp:\n",
        "        ax.boxplot(data, notch=1, positions=pos, vert=1)\n",
        "\n",
        "\n",
        "groups = range(6)\n",
        "D1 = np.loadtxt(\"drive/MyDrive/semmem/food.txt\")\n",
        "D2 = np.loadtxt(\"drive/MyDrive/semmem/animal.txt\")\n",
        "D3 = np.loadtxt(\"drive/MyDrive/semmem/sports.txt\")\n",
        "D4 = np.loadtxt(\"drive/MyDrive/semmem/vehicle.txt\")\n",
        "D5 = np.loadtxt(\"drive/MyDrive/semmem/landscape.txt\")\n",
        "D6 = np.loadtxt(\"drive/MyDrive/semmem/iran.txt\")\n",
        "\n",
        "data = [D1, D2, D3, D4, D5, D6]\n",
        "fig = pl.figure(figsize=(15, 10))\n",
        "ax = fig.add_subplot(111)\n",
        "violin_plot(ax, data, groups)\n",
        "ax.set_xticks([0, 1, 2, 3, 4, 5])\n",
        "ax.set_xticklabels([\"Food\", \"Animal\", \"Sports\", \"Vehicle\", \"Landscape\", \"Iran\"])\n",
        "plt.xlabel(\"Image category\", fontsize=20)\n",
        "plt.ylabel(\"Memorability score\", fontsize=20)\n",
        "pl.show()"
      ]
    }
  ],
  "metadata": {
    "colab": {
      "collapsed_sections": [],
      "name": "Untitled2.ipynb",
      "provenance": []
    },
    "kernelspec": {
      "display_name": "Python 3.10.3 64-bit",
      "language": "python",
      "name": "python3"
    },
    "language_info": {
      "name": "python",
      "version": "3.10.3"
    },
    "vscode": {
      "interpreter": {
        "hash": "aee8b7b246df8f9039afb4144a1f6fd8d2ca17a180786b69acc140d282b71a49"
      }
    }
  },
  "nbformat": 4,
  "nbformat_minor": 0
}
